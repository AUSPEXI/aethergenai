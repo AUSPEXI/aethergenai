{
  "cells": [
    {
      "cell_type": "code",
      "execution_count": null,
      "metadata": {},
      "outputs": [],
      "source": [
        "# Placeholder cell; create df before running training\n",
        "\n"
      ]
    },
    {
      "cell_type": "code",
      "execution_count": null,
      "metadata": {},
      "outputs": [],
      "source": [
        "import pandas as pd\n",
        "from sklearn.model_selection import train_test_split\n",
        "from sklearn.preprocessing import OneHotEncoder\n",
        "from sklearn.compose import ColumnTransformer\n",
        "from sklearn.pipeline import Pipeline\n",
        "from sklearn.linear_model import LogisticRegression\n",
        "from sklearn.metrics import roc_auc_score, average_precision_score\n",
        "\n",
        "# df = ... load from Delta/CSV\n",
        "# Example: df = preview.copy()\n",
        "\n",
        "assert 'fraud_flag' in df.columns\n",
        "\n",
        "y = df['fraud_flag'].astype(int)\n",
        "X = df.drop(columns=['fraud_flag','fraud_type','claim_id','member_id','provider_id','narrative'])\n",
        "num_cols = X.select_dtypes(include=['int64','float64']).columns.tolist()\n",
        "cat_cols = [c for c in X.columns if c not in num_cols]\n",
        "\n",
        "pre = ColumnTransformer([('cat', OneHotEncoder(handle_unknown='ignore'), cat_cols)], remainder='passthrough')\n",
        "clf = LogisticRegression(max_iter=200, class_weight='balanced')\n",
        "pipe = Pipeline([('pre', pre), ('clf', clf)])\n",
        "\n",
        "Xtr, Xte, ytr, yte = train_test_split(X, y, test_size=0.2, stratify=y, random_state=42)\n",
        "pipe.fit(Xtr, ytr)\n",
        "probs = pipe.predict_proba(Xte)[:,1]\n",
        "print('ROC-AUC', roc_auc_score(yte, probs))\n",
        "print('PR-AUC', average_precision_score(yte, probs))\n"
      ]
    },
    {
      "cell_type": "code",
      "execution_count": null,
      "metadata": {},
      "outputs": [],
      "source": [
        "# Optional: load from Delta instead of local df (run on Databricks)\n",
        "try:\n",
        "    spark\n",
        "except NameError:\n",
        "    spark = None\n",
        "\n",
        "if spark is not None:\n",
        "    delta_df = spark.sql(\"SELECT * FROM aethergen.healthcare_synth_v1\")\n",
        "    import pandas as pd\n",
        "    df = delta_df.toPandas()\n",
        "    print('Loaded from Delta:', len(df))\n",
        "else:\n",
        "    print('Spark not available; using existing df variable.')\n"
      ]
    }
  ],
  "metadata": {
    "language_info": {
      "name": "python"
    }
  },
  "nbformat": 4,
  "nbformat_minor": 2
}
